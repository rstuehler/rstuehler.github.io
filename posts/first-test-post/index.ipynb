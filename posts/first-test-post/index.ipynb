{
  "cells": [
    {
      "cell_type": "raw",
      "metadata": {},
      "source": [
        "---\n",
        "title: \"Test Post\"\n",
        "author: \"Raul Stühler\"\n",
        "date: \"2022-11-21\"\n",
        "categories: [new category]\n",
        "---"
      ],
      "id": "00c0dac6"
    },
    {
      "cell_type": "markdown",
      "metadata": {},
      "source": [
        "Hello World!\n",
        "\n",
        "    This is highlighted text.\n",
        "\n",
        "**Bold text** and *italic text*\n"
      ],
      "id": "322a8477"
    },
    {
      "cell_type": "code",
      "metadata": {},
      "source": [
        "import numpy as np\n",
        "import matplotlib.pyplot as plt\n",
        "\n",
        "x = np.arange(100)\n",
        "y = x**2\n",
        "\n",
        "plt.plot(x, y)\n",
        "plt.show()"
      ],
      "id": "4a56f3a7",
      "execution_count": null,
      "outputs": []
    }
  ],
  "metadata": {
    "kernelspec": {
      "name": "python3",
      "language": "python",
      "display_name": "Python 3"
    }
  },
  "nbformat": 4,
  "nbformat_minor": 5
}